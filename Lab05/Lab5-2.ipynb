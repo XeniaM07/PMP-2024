{
 "cells": [
  {
   "cell_type": "code",
   "execution_count": 1,
   "metadata": {},
   "outputs": [
    {
     "ename": "ModuleNotFoundError",
     "evalue": "No module named 'seaborn'",
     "output_type": "error",
     "traceback": [
      "\u001b[1;31m---------------------------------------------------------------------------\u001b[0m",
      "\u001b[1;31mModuleNotFoundError\u001b[0m                       Traceback (most recent call last)",
      "Cell \u001b[1;32mIn[1], line 3\u001b[0m\n\u001b[0;32m      1\u001b[0m \u001b[38;5;28;01mimport\u001b[39;00m \u001b[38;5;21;01mnumpy\u001b[39;00m \u001b[38;5;28;01mas\u001b[39;00m \u001b[38;5;21;01mnp\u001b[39;00m\n\u001b[0;32m      2\u001b[0m \u001b[38;5;28;01mimport\u001b[39;00m \u001b[38;5;21;01mmatplotlib\u001b[39;00m\u001b[38;5;21;01m.\u001b[39;00m\u001b[38;5;21;01mpyplot\u001b[39;00m \u001b[38;5;28;01mas\u001b[39;00m \u001b[38;5;21;01mplt\u001b[39;00m\n\u001b[1;32m----> 3\u001b[0m \u001b[38;5;28;01mimport\u001b[39;00m \u001b[38;5;21;01mseaborn\u001b[39;00m \u001b[38;5;28;01mas\u001b[39;00m \u001b[38;5;21;01msns\u001b[39;00m\n\u001b[0;32m      4\u001b[0m \u001b[38;5;28;01mfrom\u001b[39;00m \u001b[38;5;21;01mhmmlearn\u001b[39;00m \u001b[38;5;28;01mimport\u001b[39;00m hmm\n\u001b[0;32m      6\u001b[0m \u001b[38;5;66;03m# Definirea stărilor ascunse (dificultăți)\u001b[39;00m\n",
      "\u001b[1;31mModuleNotFoundError\u001b[0m: No module named 'seaborn'"
     ]
    }
   ],
   "source": [
    "import numpy as np\n",
    "import matplotlib.pyplot as plt\n",
    "from hmmlearn import hmm\n",
    "\n",
    "# Definirea stărilor ascunse (dificultăți)\n",
    "states = [\"Dificil\", \"Mediu\", \"Ușor\"]\n",
    "n_states = len(states)\n",
    "\n",
    "# Definirea observațiilor (notele obținute)\n",
    "observations = [\"FB\", \"B\", \"S\", \"NS\"]  # FB - Foarte Bine, B - Bine, S - Satisfăcător, NS - Nesatisfăcător\n",
    "n_observations = len(observations)\n",
    "\n",
    "# Probabilitățile inițiale pentru fiecare stare\n",
    "start_probability = np.array([1/3, 1/3, 1/3])  # Probabilitate egală pentru fiecare dificultate\n",
    "\n",
    "# Matricea de tranziție între stările de dificultate\n",
    "transition_probability = np.array([\n",
    "    [0.0, 0.5, 0.5],   # Dacă testul este Dificil, următorul poate fi Mediu sau Ușor\n",
    "    [0.5, 0.25, 0.25], # Dacă testul este Mediu, următorul poate fi Dificil, Mediu sau Ușor\n",
    "    [0.5, 0.25, 0.25]  # Dacă testul este Ușor, următorul poate fi Dificil, Mediu sau Ușor\n",
    "])\n",
    "\n",
    "# Probabilitățile de emisie pentru notele obținute în funcție de dificultate\n",
    "emission_probability = np.array([\n",
    "    [0.1, 0.2, 0.4, 0.3],  # Test Dificil\n",
    "    [0.15, 0.25, 0.5, 0.1], # Test Mediu\n",
    "    [0.2, 0.3, 0.4, 0.1]    # Test Ușor\n",
    "])\n",
    "\n",
    "# Crearea și configurarea modelului HMM\n",
    "model = hmm.CategoricalHMM(n_components=n_states)\n",
    "model.startprob_ = start_probability\n",
    "model.transmat_ = transition_probability\n",
    "model.emissionprob_ = emission_probability\n",
    "\n",
    "# Definirea secvenței de observații (notele obținute)\n",
    "observations_sequence = [\"FB\", \"FB\", \"S\", \"B\", \"B\", \"S\", \"B\", \"B\", \"NS\", \"B\", \"B\", \"S\"]\n",
    "obs_map = {obs: i for i, obs in enumerate(observations)}\n",
    "obs_indices = np.array([[obs_map[note]] for note in observations_sequence])\n",
    "\n",
    "# Prezicerea stărilor ascunse (dificultățile testelor) având în vedere secvența de observații\n",
    "hidden_states = model.predict(obs_indices)\n",
    "decoded_states = [states[state] for state in hidden_states]\n",
    "\n",
    "# Afișarea rezultatelor\n",
    "print(\"Secvența de dificultăți:\", decoded_states)\n",
    "\n",
    "# Afișarea probabilității secvenței\n",
    "log_prob = model.score(obs_indices)\n",
    "print(\"Probabilitatea secvenței:\", np.exp(log_prob))\n",
    "\n",
    "# Plotarea rezultatelor pentru vizualizare folosind doar matplotlib\n",
    "plt.plot(hidden_states, '-o', label=\"Stare Ascunsă\", color='b')\n",
    "plt.xlabel(\"Pas de timp\")\n",
    "plt.ylabel(\"Stare Ascunsă (Dificultate Test)\")\n",
    "plt.yticks(ticks=range(n_states), labels=states)\n",
    "plt.xticks(ticks=range(len(observations_sequence)), labels=observations_sequence)\n",
    "plt.legend()\n",
    "plt.title(\"Stările Ascunse Prezise în Timp\")\n",
    "plt.grid()\n",
    "plt.show()\n"
   ]
  }
 ],
 "metadata": {
  "kernelspec": {
   "display_name": "Python 3",
   "language": "python",
   "name": "python3"
  },
  "language_info": {
   "codemirror_mode": {
    "name": "ipython",
    "version": 3
   },
   "file_extension": ".py",
   "mimetype": "text/x-python",
   "name": "python",
   "nbconvert_exporter": "python",
   "pygments_lexer": "ipython3",
   "version": "3.12.7"
  }
 },
 "nbformat": 4,
 "nbformat_minor": 2
}
