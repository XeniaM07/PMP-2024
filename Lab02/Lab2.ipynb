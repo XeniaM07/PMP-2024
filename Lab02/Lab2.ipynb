{
 "cells": [
  {
   "cell_type": "markdown",
   "metadata": {},
   "source": [
    "Rezolvare a)\n",
    "1. Definim starea inițială a urnei: nr de bile din urna (3 rosii, 4 albastre, 2 negre)\n",
    "2. Aruncăm zarul și, în funcție de rezultat, actualizăm conținutul urnei: functie pentru generare a unui nr aleator intre 1 si 6\n",
    "3. Actualizarea continutului: \n",
    "    - daca rezultatul zarului este un nr prim (2,3,5) => + 1 neagra\n",
    "    - daca rezultatul zarului este 6 => +1 rosie\n",
    "    - daca rezultatul zarului este 1,4 => +1 albastra\n",
    "4. Extragerea unei bile din urnă"
   ]
  },
  {
   "cell_type": "code",
   "execution_count": null,
   "metadata": {},
   "outputs": [
    {
     "name": "stdout",
     "output_type": "stream",
     "text": [
      "Rezultatul zarului: 1\n",
      "Continutul urnei după actualizare: {'rosii': 3, 'albastre': 5, 'negre': 2}\n",
      "Bila extrasă: rosii\n"
     ]
    }
   ],
   "source": [
    "import numpy as np  #importam biblioteca pentru generarea\n",
    "                    #numerelor aleatoare si alte operatii numerice\n",
    "\n",
    "# 1. Initializarea urnei cu numarul de bile de fiecare tip\n",
    "bile = {'rosii': 3, 'albastre': 4, 'negre': 2}\n",
    "\n",
    "# 2. Functie pentru simularea aruncarii unui zar\n",
    "def arunca_zarul():\n",
    "    #np.random.randint(1,7) genereaza un numar aleator intre 1 si 6 inclusiv\n",
    "    return np.random.randint(1, 7)\n",
    "\n",
    "# 3. Functie care actualizeaza starea urnei in functie de rezultatul zarului.\n",
    "def actualizeaza_urna(zar, bile):\n",
    "    #daca zarul este 2,3 sau 5 (numere prime), adaugam o bila neagra\n",
    "    if zar in [2, 3, 5]:\n",
    "        bile['negre'] += 1\n",
    "    #daca zarul este 6, adaugam o bila rosie\n",
    "    elif zar == 6:\n",
    "        bile['rosii'] += 1\n",
    "    #in caz contrar (1 sau 4), adaugam o bila albastra\n",
    "    else:\n",
    "        bile['albastre'] += 1\n",
    "    #returnam urna actualizata\n",
    "    return bile\n",
    "\n",
    "# 4. Functie pentru extragerea unei bile din urna\n",
    "def extrage_bila(bile):\n",
    "    #calculam numarul total de bile\n",
    "    total_bile = sum(bile.values())\n",
    "    #np.random.choice alege un element aleator bazat pe probabilitatile relative\n",
    "    extrae_bila = np.random.choice(list(bile.keys()), p=[bile[key] / total_bile for key in bile])\n",
    "    # Cheile dicționarului reprezintă tipurile de bile\n",
    "    # Probabilitatea pentru fiecare tip de bilă\n",
    "    return extrae_bila\n",
    "\n",
    "# Exemplu de rulare a pașilor pentru un experiment unic\n",
    "zar = arunca_zarul()\n",
    "print(f\"Rezultatul zarului: {zar}\")\n",
    "\n",
    "bile_actualizate = actualizeaza_urna(zar, bile)\n",
    "print(f\"Continutul urnei după actualizare: {bile_actualizate}\")\n",
    "\n",
    "bila_extrasa = extrage_bila(bile_actualizate)\n",
    "print(f\"Bila extrasă: {bila_extrasa}\")\n"
   ]
  },
  {
   "cell_type": "markdown",
   "metadata": {},
   "source": [
    "Rezolvare b)\n",
    "1. incrementam un contor daca bila extrasa este rosie\n",
    "2. Repetam acest proces pt un nr fix de simulari (ex: 100.000)\n",
    "3. Estimarea probabilitatii: (nr total de bile extrase)/(nr total de simulari)"
   ]
  },
  {
   "cell_type": "code",
   "execution_count": null,
   "metadata": {},
   "outputs": [
    {
     "name": "stdout",
     "output_type": "stream",
     "text": [
      "Probabilitatea estimată de a obține o bilă roșie: 0.1540\n"
     ]
    }
   ],
   "source": [
    "# 5. Funcție pentru estimarea probabilității de a obține o bilă roșie prin simulări\n",
    "def estimare_probabilitate(num_simulari):\n",
    "    contor_bile_rosii = 0 # Contor pentru bilele roșii extrase\n",
    "\n",
    "    for _ in range(num_simulari):\n",
    "        # Resetăm starea inițială a urnei\n",
    "        bile = {'rosii': 3, 'albastre': 4, 'negre': 2}\n",
    "        # Simulăm aruncarea zarului\n",
    "        zar = arunca_zarul()\n",
    "        # Actualizăm urna în funcție de rezultatul zarului\n",
    "        bile_actualizate = actualizeaza_urna(zar, bile)\n",
    "        # Extragem o bilă din urna actualizată\n",
    "        bila_extrasa = extrage_bila(bile_actualizate)\n",
    "        \n",
    "        # Dacă bila extrasă este roșie, incrementăm contorul\n",
    "        if bila_extrasa == 'rosii':\n",
    "            contor_bile_rosii += 1\n",
    "\n",
    "    # Calculăm probabilitatea estimativă\n",
    "    probabilitate_estimativa = contor_bile_rosii / num_simulari\n",
    "    return probabilitate_estimativa\n",
    "\n",
    "# Numărul de simulări\n",
    "num_simulari = 1000\n",
    "probabilitate_estimativa = estimare_probabilitate(num_simulari)\n",
    "\n",
    "print(f\"Probabilitatea estimată de a obține o bilă roșie: {probabilitate_estimativa:.4f}\")"
   ]
  },
  {
   "cell_type": "markdown",
   "metadata": {},
   "source": [
    "BONUS:\n",
    "\n",
    "1. Starea initiala: 3+4+2 = 9 bile\n",
    "2. Rezultate posibile ale zarului:\n",
    "    - 1 sau 4 => + albastra\n",
    "    - 2,3 sau 5 => + neagra\n",
    "    - 6 => + rosie\n",
    "\n",
    "    Probabilitatea de a obtine un rezultat:\n",
    "    P(1 sau 4)= 2/6 = 1/3 (bile albastre)\n",
    "    P(2,3,5) = 3/6 = 1/2 (bile negre)\n",
    "    P(6) = 1/6 (bile rosii)\n",
    "\n",
    "3. Actualizarea urnei\n",
    "    - zarul: 1 sau 4\n",
    "        - 3 rosii, 5 albastre, 2 negre\n",
    "        - 3+5+2=10\n",
    "        - Probabilitatea extrg bila rosie = 3/10\n",
    "    - zarul: 2,3 sau 5\n",
    "        - 3 rosii, 4 albastre, 3 negre\n",
    "        - 3+4+3=10\n",
    "        - Probabilitatea extrg bila rosie = 3/10\n",
    "    - zarul: 6\n",
    "        - 4 rosii, 4 albastre, 2 negre\n",
    "        - 4+4+2=10\n",
    "        - Probabilitatea extrg bila rosie = 4/10=2/5\n",
    "\n",
    "4. Probabilitatea\n",
    "P(rosie) = P(1 sau 4) x P(rosie|1 sau 4) + P(2,3,5) x P(rosie| 2,3,5) + P(6)xP(rosie|6)\n",
    "    = 1/3 x 3/10 + 1/2 x 3/10 + 1/6 x 4/10\n",
    "    = 1/10 + 3/20 +2/30 \n",
    "    =(6+9+4)/60\n",
    "    =19/60 => aproximativ 0,316\n",
    "\n"
   ]
  }
 ],
 "metadata": {
  "kernelspec": {
   "display_name": "Python 3",
   "language": "python",
   "name": "python3"
  },
  "language_info": {
   "codemirror_mode": {
    "name": "ipython",
    "version": 3
   },
   "file_extension": ".py",
   "mimetype": "text/x-python",
   "name": "python",
   "nbconvert_exporter": "python",
   "pygments_lexer": "ipython3",
   "version": "3.12.7"
  }
 },
 "nbformat": 4,
 "nbformat_minor": 2
}
