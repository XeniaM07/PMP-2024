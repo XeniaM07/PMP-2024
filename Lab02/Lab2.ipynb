{
 "cells": [
  {
   "cell_type": "markdown",
   "metadata": {},
   "source": [
    "Cerinta: \n",
    "\n",
    "Considerăm o urnă în care avem 3 bile roșii, 4 albastre și 2 negre. Aruncăm un zar; dacă obținem un număr prim,\n",
    "adăugăm o bilă neagră în urnă, dacă obținem 6, adăugăm o bilă roșie, iar în celelalte cazuri adăugăm o bilă albastră.\n",
    "Apoi extragem o bilă din urnă.\n",
    "\n",
    "a) Simulați în Python experimentul de mai sus.\n",
    "\n",
    "b) Folosind modelarea făcută, estimați probabilitatea de a obține o bilă roșie.\n",
    "\n",
    "\n",
    "Bonus. Calculați probabilitatea teoretică a evenimentului de mai sus și comparați-o cu cea obținută."
   ]
  },
  {
   "cell_type": "markdown",
   "metadata": {},
   "source": [
    "Rezolvare a)\n",
    "1. Definim starea inițială a urnei: nr de bile din urna (3 rosii, 4 albastre, 2 negre)\n",
    "2. Aruncăm zarul și, în funcție de rezultat, actualizăm conținutul urnei: functie pentru generare a unui nr aleator intre 1 si 6\n",
    "3. Actualizarea continutului: \n",
    "    - daca rezultatul zarului este un nr prim (2,3,5) => + 1 neagra\n",
    "    - daca rezultatul zarului este 6 => +1 rosie\n",
    "    - daca rezultatul zarului este 1,4 => +1 albastra\n",
    "4. Extragerea unei bile din urnă\n",
    "\n",
    "Rezolvare b)\n",
    "1. incrementam un contor daca bila extrasa este rosie\n",
    "2. Repetam acest proces pt un nr fix de simulari (ex: 100.000)\n",
    "3. Estimarea probabilitatii: (nr total de bile extrase)/(nr total de simulari)"
   ]
  },
  {
   "cell_type": "code",
   "execution_count": 30,
   "metadata": {},
   "outputs": [
    {
     "name": "stdout",
     "output_type": "stream",
     "text": [
      "Rezultatul zarului: 2\n",
      "Continutul urnei după actualizare: {'rosii': 3, 'albastre': 4, 'negre': 3}\n",
      "Bila extrasă: rosii\n"
     ]
    }
   ],
   "source": [
    "import numpy as np\n",
    "\n",
    "# 1\n",
    "bile = {'rosii': 3, 'albastre': 4, 'negre': 2}\n",
    "\n",
    "# 2\n",
    "def arunca_zarul():\n",
    "    return np.random.randint(1, 7)\n",
    "\n",
    "# 3\n",
    "def actualizeaza_urna(zar, bile):\n",
    "    if zar in [2, 3, 5]:\n",
    "        bile['negre'] += 1\n",
    "    elif zar == 6:\n",
    "        bile['rosii'] += 1\n",
    "    else:\n",
    "        bile['albastre'] += 1\n",
    "    return bile\n",
    "\n",
    "# 4\n",
    "def extrage_bila(bile):\n",
    "    total_bile = sum(bile.values())\n",
    "    extrae_bila = np.random.choice(list(bile.keys()), p=[bile[key] / total_bile for key in bile])\n",
    "    return extrae_bila\n",
    "\n",
    "# Exemplu de rulare a pașilor\n",
    "zar = arunca_zarul()\n",
    "print(f\"Rezultatul zarului: {zar}\")\n",
    "\n",
    "bile_actualizate = actualizeaza_urna(zar, bile)\n",
    "print(f\"Continutul urnei după actualizare: {bile_actualizate}\")\n",
    "\n",
    "bila_extrasa = extrage_bila(bile_actualizate)\n",
    "print(f\"Bila extrasă: {bila_extrasa}\")\n"
   ]
  },
  {
   "cell_type": "code",
   "execution_count": null,
   "metadata": {},
   "outputs": [],
   "source": [
    "def estimare_probabilitate(num_simulari):\n",
    "    contor_bile_rosii = 0  # Contor pentru bilele extrase\n",
    "\n",
    "    for _ in range(num_simulari):\n",
    "        zar = arunca_zarul()  # Aruncăm zarul\n",
    "        bile_actualizate = actualizeaza_urna(zar, bile)  # Actualizăm urna\n",
    "        bila_extrasa = extrage_bila(bile_actualizate)  # Extragerea unei bile\n",
    "        \n",
    "        # Incrementăm contorul dacă bila extrasă este roșie\n",
    "        if bila_extrasa == 'rosii':\n",
    "            contor_bile_rosii += 1\n",
    "\n",
    "    # Estimarea probabilității\n",
    "    probabilitate_estimativa = contor_bile_rosii / num_simulari\n",
    "    return probabilitate_estimativa\n",
    "\n",
    "# Numărul de simulari\n",
    "num_simulari = 100000\n",
    "\n",
    "# Rulăm estimarea probabilității\n",
    "probabilitate_estimativa = estimare_probabilitate(num_simulari)\n",
    "\n",
    "# Afișăm rezultatul\n",
    "print(f\"Probabilitatea estimată de a obține o bilă roșie: {probabilitate_estimativa:.4f}\")"
   ]
  }
 ],
 "metadata": {
  "kernelspec": {
   "display_name": "Python 3",
   "language": "python",
   "name": "python3"
  },
  "language_info": {
   "codemirror_mode": {
    "name": "ipython",
    "version": 3
   },
   "file_extension": ".py",
   "mimetype": "text/x-python",
   "name": "python",
   "nbconvert_exporter": "python",
   "pygments_lexer": "ipython3",
   "version": "3.12.7"
  }
 },
 "nbformat": 4,
 "nbformat_minor": 2
}
